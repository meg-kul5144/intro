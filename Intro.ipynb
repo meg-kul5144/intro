{
 "cells": [
  {
   "cell_type": "markdown",
   "id": "5586fd74-c8d8-4984-b21c-37c72e85f754",
   "metadata": {},
   "source": []
  },
  {
   "cell_type": "markdown",
   "id": "61fb3e3e-2d2f-41fb-a393-d81fded68826",
   "metadata": {},
   "source": [
    "# 2.title.png"
   ]
  },
  {
   "cell_type": "markdown",
   "id": "865497af-de48-4266-8b35-4b7eb872df6e",
   "metadata": {},
   "source": [
    "## Introduction\n",
    "### This is a  new notebook"
   ]
  },
  {
   "cell_type": "markdown",
   "id": "78c365ac-4e88-47e4-bb8c-8386292ad1d5",
   "metadata": {},
   "source": [
    "### List of data science languages\n",
    "- Python\n",
    "- R\n",
    "- SQL"
   ]
  },
  {
   "cell_type": "markdown",
   "id": "3f0e1b37-062e-4684-b8e6-1dfc979764d3",
   "metadata": {},
   "source": [
    "### List of data science libraries\n",
    "- Tensorflow\n",
    "- Numpy\n",
    "- Pandas"
   ]
  },
  {
   "cell_type": "markdown",
   "id": "2898513f-80cf-426e-b67b-0b5c6b6bccb9",
   "metadata": {},
   "source": [
    "| Data science tools |\n",
    "|--------------------|\n",
    "| Apache spark |\n",
    "| Apache Hadoop |\n",
    "| Jupyter notebook |"
   ]
  },
  {
   "cell_type": "markdown",
   "id": "7cfc928c-22ec-4751-92c8-65a78079783e",
   "metadata": {},
   "source": [
    "### Arithmetic expression examples\n",
    "- $ y = a + b x $\n",
    "- $\\sqrt{3y+4}+(1+y)^2$"
   ]
  },
  {
   "cell_type": "code",
   "execution_count": 2,
   "id": "51ee965c-595c-49ee-b634-be204e04ec66",
   "metadata": {
    "tags": []
   },
   "outputs": [
    {
     "name": "stdout",
     "output_type": "stream",
     "text": [
      "28\n",
      "11\n"
     ]
    }
   ],
   "source": [
    "a = 4\n",
    "b = 7\n",
    "c = a * b\n",
    "d = a + b\n",
    "\n",
    "print(c)\n",
    "print(d)"
   ]
  },
  {
   "cell_type": "code",
   "execution_count": 9,
   "id": "d4242eb4-f97e-41e6-9abf-053cd8296441",
   "metadata": {
    "tags": []
   },
   "outputs": [
    {
     "name": "stdin",
     "output_type": "stream",
     "text": [
      "Enter time in min 90\n"
     ]
    },
    {
     "name": "stdout",
     "output_type": "stream",
     "text": [
      "hours, min (1, 30)\n"
     ]
    }
   ],
   "source": [
    "a = int(input(\"Enter time in min\"))\n",
    "b = divmod(a,60)\n",
    "print('hours, min', b)"
   ]
  },
  {
   "cell_type": "markdown",
   "id": "99d791de-cb31-4dfd-8918-db9e5be9a055",
   "metadata": {},
   "source": [
    "### Objectives\n",
    "- Learning about data science tools\n",
    "- Learning about data science languages\n",
    "- Installing Anaconda to run Jupyter notebooks\n",
    "- Learning about R- studio\n"
   ]
  },
  {
   "cell_type": "markdown",
   "id": "69f3b377-68f1-4c08-a3d2-d4534b91078c",
   "metadata": {},
   "source": [
    "## Author's nanme\n",
    "### Meg "
   ]
  },
  {
   "cell_type": "code",
   "execution_count": null,
   "id": "9f4323df-c43f-4a03-b108-475e3e933a9c",
   "metadata": {},
   "outputs": [],
   "source": []
  }
 ],
 "metadata": {
  "kernelspec": {
   "display_name": "Python",
   "language": "python",
   "name": "conda-env-python-py"
  },
  "language_info": {
   "codemirror_mode": {
    "name": "ipython",
    "version": 3
   },
   "file_extension": ".py",
   "mimetype": "text/x-python",
   "name": "python",
   "nbconvert_exporter": "python",
   "pygments_lexer": "ipython3",
   "version": "3.7.12"
  }
 },
 "nbformat": 4,
 "nbformat_minor": 5
}
